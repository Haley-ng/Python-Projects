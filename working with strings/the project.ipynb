{
 "cells": [
  {
   "cell_type": "markdown",
   "metadata": {},
   "source": [
    "# T2 2024 CSC3501 : Assignment 1 (Part B, 65 marks)"
   ]
  },
  {
   "cell_type": "markdown",
   "metadata": {},
   "source": [
    "In this assignment, we are programming with Python 3.\n",
    "\n",
    "##  Task 1. Literary Scrabble [50 marks]\n",
    "\n",
    "In this task, we are programming and playing a round of Literary Scrabble: a game of Scrabble where you can only play words that appear in selected literary classics.  \n",
    "\n",
    "**You Tasks**:\n",
    "\n",
    "Answer **Q1-Q4** by complementing each of the **Word Analysis** functions below:\n",
    "- The **Word Analysis** functions will provide the primary text analysis to help you answer the questions defined in this task. \n",
    "\n",
    "You **must** test your code via the inputs and expected outputs in **\"Example\"** in each question.\n",
    "\n",
    "Text files for creating word lists are available in the `bed_time_stories` folder (included in this assignment folder).\n",
    "\n",
    "You are **not allowed** to import the module of \"re\" (regular expression).\n",
    "\n"
   ]
  },
  {
   "cell_type": "code",
   "execution_count": 1,
   "metadata": {
    "scrolled": true
   },
   "outputs": [],
   "source": [
    "from __future__ import print_function\n",
    "\n",
    "import string"
   ]
  },
  {
   "cell_type": "markdown",
   "metadata": {},
   "source": [
    "### I. Word Analysis"
   ]
  },
  {
   "cell_type": "markdown",
   "metadata": {},
   "source": [
    "#### Q1. Create Story Word List  [20 Marks]\n",
    "\n",
    "Complete the function below which should read a (bed-time) story (i.e., `text_file`), and return a sorted list (descending) of words extracted from the story that also exist in the file `word_candidates.txt` (which is essentially a list of approved scrabble words).  \n",
    "\n",
    "More specifcially, you are asked to create a word list from `text_file`, by completing the following tasks: \n",
    "- convert all characters to uppercase;  \n",
    "- replace hyphens with a single space: `' '`; \n",
    "- split hyphenated words into separate words; \n",
    "- strip off all contractions and possessives from words: 's, 're, etc.; \n",
    "- remove all punctuation, whitespace characters and numbers;\n",
    "- only keep words which also occur in the file `word_candidates.txt`;\n",
    "- no duplicates in the word list.\n",
    "\n",
    "HINT: The Python Standard Library provides various string constants, such as `whitespace` and `punctuation`.  You may want to review the Python Standard Library's sections on string methods and constants.\n",
    "- [String constants](https://docs.python.org/3/library/string.html#string-constants)\n",
    "- [String methods](https://docs.python.org/3/library/stdtypes.html#text-sequence-type-str)\n",
    "\n",
    "**NOTE: Creating a story's word list may take several seconds of processing time**.  We recommend you to use the shorter story file `\"Jack_and_the_beanstalk.txt\"`  while you are testing your code.\n",
    "\n",
    "**Example:**\n",
    "`create_wordlist(\"bed_time_stories/Jack_and_the_beanstalk.txt\")` returns:\n",
    "\n",
    "['WOKE',\n",
    " 'WITH',\n",
    " 'WINDOW',\n",
    " 'WHEN',\n",
    " 'WERE',\n",
    " 'WENT',\n",
    " 'WAY',\n",
    " 'WAS',\n",
    " 'VOICE',\n",
    " 'VERY',\n",
    " 'UPON',\n",
    " 'UP',\n",
    " 'TOOK',\n",
    " 'TOLD',\n",
    " 'TO',\n",
    " 'TIME',\n",
    " 'THROUGH',\n",
    " 'THREW',\n",
    " 'THEY',\n",
    " 'THERE',\n",
    " 'THEIR',\n",
    " 'THE',\n",
    " 'TAKE',\n",
    " 'TABLE',\n",
    " 'SUDDENLY',\n",
    " 'STARTED',\n",
    " 'SOON',\n",
    " 'SOME',\n",
    " 'SKY',\n",
    " 'SING',\n",
    " 'SHOUTED',\n",
    " 'SHE',\n",
    " 'SELL',\n",
    " 'SAW',\n",
    " 'SAT',\n",
    " 'SANG',\n",
    " 'SAID',\n",
    " 'ROOM',\n",
    " 'RAN',\n",
    " 'POOR',\n",
    " 'OUTSIDE',\n",
    " 'OUT',\n",
    " 'ONE',\n",
    " 'ONCE',\n",
    " 'ON',\n",
    " 'OF',\n",
    " 'NOBODY',\n",
    " 'NEXT',\n",
    " 'MOTHER',\n",
    " 'MORNING',\n",
    " 'MET',\n",
    " 'MASTER',\n",
    " 'MARKET',\n",
    " 'MAN',\n",
    " 'MAGIC',\n",
    " 'MADE',\n",
    " 'LOOKED',\n",
    " 'LIVED',\n",
    " 'LAY',\n",
    " 'LAID',\n",
    " 'JUMPED',\n",
    " 'JACK',\n",
    " 'IT',\n",
    " 'INTO',\n",
    " 'INSIDE',\n",
    " 'HOME',\n",
    " 'HIS',\n",
    " 'HIM',\n",
    " 'HER',\n",
    " 'HEN',\n",
    " 'HELP',\n",
    " 'HEARD',\n",
    " 'HE',\n",
    " 'HARP',\n",
    " 'HAPPILY',\n",
    " 'HAD',\n",
    " 'GROUND',\n",
    " 'GOLDEN',\n",
    " 'GOLD',\n",
    " 'GIANT',\n",
    " 'GAVE',\n",
    " 'FUM',\n",
    " 'FOR',\n",
    " 'FELL',\n",
    " 'FEE',\n",
    " 'EVER',\n",
    " 'ENORMOUS',\n",
    " 'EGGS',\n",
    " 'EGG',\n",
    " 'DOWN',\n",
    " 'CUPBOARD',\n",
    " 'CRASHED',\n",
    " 'COW',\n",
    " 'CLOUDS',\n",
    " 'CLIMBING',\n",
    " 'CLIMBED',\n",
    " 'CLIMB',\n",
    " 'CHOPPED',\n",
    " 'CASTLE',\n",
    " 'CAME',\n",
    " 'CALLED',\n",
    " 'BOY',\n",
    " 'BEGAN',\n",
    " 'BEAUTIFUL',\n",
    " 'BEANSTALK',\n",
    " 'BEANS',\n",
    " 'BACK',\n",
    " 'AXE',\n",
    " 'ASLEEP',\n",
    " 'ANGRY',\n",
    " 'AND',\n",
    " 'AN',\n",
    " 'ALL',\n",
    " 'AGAIN',\n",
    " 'AFTER']"
   ]
  },
  {
   "cell_type": "code",
   "execution_count": 2,
   "metadata": {
    "scrolled": true
   },
   "outputs": [
    {
     "name": "stdout",
     "output_type": "stream",
     "text": [
      "the word file name is: Word Candidates\n",
      "the story file name is: Jack and the beanstalk\n"
     ]
    }
   ],
   "source": [
    "word_file = input('the word file name is: ')\n",
    "story_file = input('the story file name is: ')\n",
    "def create_wordlist(text_file):\n",
    "  \n",
    "    \"\"\" \n",
    "        text_file argument is created to pass to create_wordlist function for reading story file\n",
    "        in this function, we return a list of words from story file.\n",
    "        the words list is extracted if words in story file exist in the word_candidates file.\n",
    "        words from the story file are stripped numbers, whitespace, punctuation and hyphens, underscores.\n",
    "        \n",
    "        return: the word list is sorted by descending, all upper case, no duplicate words.\n",
    "    \"\"\"\n",
    "# Read word_candidates.txt\n",
    "    with open ('word_candidates.txt', 'r') as file1: # alias file1 for Reading the word_candidate file \n",
    "        word_can_unique = set() # create an empty set() for unique words in the word_candidate file\n",
    "        for word_can in file1:  # looping each word in the word_candidate file\n",
    "            word_can_unique.add(word_can.strip().upper()) # add unique words into set after stripping and uppering \n",
    "                   \n",
    "# Read the story file                   \n",
    "    with open(text_file, 'r') as file2: # alias file2 for Reading the story file \n",
    "                   story_file = file2.read() \n",
    "    \n",
    "    story_file = story_file.upper() # all words in story file are uppercase \n",
    "    story_file = story_file.replace(\"'\", \"\") # remove single quotes\n",
    "    story_file = story_file.replace(\"-\", \"\") # remove hyphens\n",
    "    remove_punctuation = str. maketrans('', '', string.punctuation) # remove punctuation\n",
    "    story_file = story_file.translate(remove_punctuation)\n",
    "    remove_numbers = str. maketrans('', '', string.digits) # remove numbers\n",
    "    story_file = story_file.translate(remove_numbers)\n",
    "    \n",
    "    word_story = story_file.split() # seperate words in the story file \n",
    "                   \n",
    "    wordlist_story = set() # create an empty set with unique, no dupplicated words from the story file after cleaning\n",
    "    for word_s in word_story: # loop each unique word in the story file \n",
    "                   if word_s in word_can_unique: #if it is in the word_candidate file\n",
    "                       wordlist_story.add(word_s) # then add into wordlist_story set \n",
    "    \n",
    "    sorted_wordlist_story = sorted(wordlist_story, reverse=True) # sort the wordlist_story set by descending\n",
    "     \n",
    "    print(sorted_wordlist_story) # print the result\n",
    "    pass #  a placeholder until the actual arg passed to def function\n",
    "\n",
    "# create_wordlist(\"bed_time_stories/Jack_and_the_beanstalk.txt\")"
   ]
  },
  {
   "cell_type": "code",
   "execution_count": 3,
   "metadata": {
    "scrolled": true
   },
   "outputs": [
    {
     "name": "stdout",
     "output_type": "stream",
     "text": [
      "['WOKE', 'WITH', 'WINDOW', 'WHEN', 'WERE', 'WENT', 'WAY', 'WAS', 'VOICE', 'VERY', 'UPON', 'UP', 'TOOK', 'TOLD', 'TO', 'TIME', 'THROUGH', 'THREW', 'THEY', 'THERE', 'THEIR', 'THE', 'TAKE', 'TABLE', 'SUDDENLY', 'STARTED', 'SOON', 'SOME', 'SKY', 'SING', 'SHOUTED', 'SHE', 'SELL', 'SAW', 'SAT', 'SANG', 'SAID', 'ROOM', 'RAN', 'POOR', 'OUTSIDE', 'OUT', 'ONE', 'ONCE', 'ON', 'OF', 'NOBODY', 'NEXT', 'MOTHER', 'MORNING', 'MET', 'MARKET', 'MAN', 'MAGIC', 'MADE', 'LOOKED', 'LIVED', 'LAID', 'JUMPED', 'JACK', 'IT', 'INTO', 'INSIDE', 'HOME', 'HIS', 'HIM', 'HER', 'HEN', 'HEARD', 'HE', 'HARP', 'HAPPILY', 'HAD', 'GROUND', 'GOLDEN', 'GOLD', 'GIANT', 'GAVE', 'FOR', 'FELL', 'EVER', 'ENORMOUS', 'EGGS', 'EGG', 'DOWN', 'CUPBOARD', 'CRASHED', 'COW', 'CLOUDS', 'CLIMBING', 'CLIMBED', 'CLIMB', 'CHOPPED', 'CASTLE', 'CAME', 'CALLED', 'BOY', 'BEGAN', 'BEAUTIFUL', 'BEANSTALK', 'BEANS', 'BACK', 'AXE', 'ASLEEP', 'ANGRY', 'AND', 'AN', 'ALL', 'AGAIN', 'AFTER']\n"
     ]
    }
   ],
   "source": [
    "create_wordlist(\"bed_time_stories/Jack_and_the_beanstalk.txt\")"
   ]
  },
  {
   "cell_type": "markdown",
   "metadata": {},
   "source": [
    "#### Q2. Word From Letters [10 Marks]\n",
    "\n",
    "The `word_from_letters` function below should return `True` or `False` depending on if the `word` can be created from the provided string of `letters`. The `word` does not have to use all of the letters.  NOTE: Each letter in `letters` can only be used once.\n",
    "\n",
    "**Example**: \n",
    "- `word_from_letters('WONDER','APEOTSY')`, returns `False`\n",
    "- `word_from_letters('LAMB','BMOEALMR')`, returns `True`   "
   ]
  },
  {
   "cell_type": "code",
   "execution_count": 4,
   "metadata": {
    "scrolled": true
   },
   "outputs": [],
   "source": [
    "# Counters behave like dictionaries in many ways; they map from each key to the number of times it appears.\n",
    "# If trying to access a key that doesn't exist, it will return 0\n",
    "\n",
    "from collections import Counter "
   ]
  },
  {
   "cell_type": "code",
   "execution_count": 5,
   "metadata": {
    "scrolled": true
   },
   "outputs": [],
   "source": [
    "def word_from_letters(word, letters):\n",
    "    \n",
    "    \"\"\" \n",
    "        word_from_letters function is created to identify if the given word is in the given letters\n",
    "        \n",
    "        'word' and 'letters' are the two arguments with the 'string' type\n",
    "\n",
    "        Return True or False\n",
    "        True if the word can be created from the provided string of letters\n",
    "        else: False if cannot\n",
    "        \n",
    "        Example:\n",
    "\n",
    "        word_from_letters('WONDER','APEOTSY'), returns False\n",
    "        word_from_letters('LAMB','BMOEALMR'), returns True\n",
    "        \n",
    "    \"\"\"\n",
    "    \n",
    "    word_hist = Counter(word) # created the word hist Counter object\n",
    "    letters_hist = Counter(letters) # created the letter hist Counter object\n",
    "    for word_char, word_count in word_hist.most_common(): # loop each word character and word count in it most common characters and their counts. \n",
    "        \n",
    "        #create a new letter_count variable where returns the count of word character in letters_hist if it exists, or 0 if it doesn't.\n",
    "        letter_count = letters_hist.get(word_char, 0)\n",
    "        \n",
    "        print(word_char, word_count, word_char, letter_count)\n",
    "        \n",
    "        ## Compare word_count with letters_count. \n",
    "        # If word_count > letter_count, it means word character is not in letters. -> False \n",
    "        # If word_count =< letter_count, it means there is in one or more word character in letters -> True\n",
    "        if word_count > letter_count:\n",
    "            return False\n",
    "        else:\n",
    "            return True\n",
    "    \n",
    "    pass #  a placeholder until the actual arg passed to def function\n"
   ]
  },
  {
   "cell_type": "code",
   "execution_count": 6,
   "metadata": {
    "scrolled": true
   },
   "outputs": [
    {
     "name": "stdout",
     "output_type": "stream",
     "text": [
      "W 1 W 0\n"
     ]
    },
    {
     "data": {
      "text/plain": [
       "False"
      ]
     },
     "execution_count": 6,
     "metadata": {},
     "output_type": "execute_result"
    }
   ],
   "source": [
    "word_from_letters('WONDER','APEOTSY')"
   ]
  },
  {
   "cell_type": "code",
   "execution_count": 7,
   "metadata": {
    "scrolled": true
   },
   "outputs": [
    {
     "name": "stdout",
     "output_type": "stream",
     "text": [
      "L 1 L 1\n"
     ]
    },
    {
     "data": {
      "text/plain": [
       "True"
      ]
     },
     "execution_count": 7,
     "metadata": {},
     "output_type": "execute_result"
    }
   ],
   "source": [
    "word_from_letters('LAMB','BMOEALMR')"
   ]
  },
  {
   "cell_type": "markdown",
   "metadata": {},
   "source": [
    "#### Q3. Word Score [10 Marks]\n",
    "\n",
    "The `word_score` function below should return a word's scrabble score (integer). Use the following word score values to calculate the word's scrabble score(https://en.wikipedia.org/wiki/Scrabble_letter_distribution):\n",
    "\n",
    "\n",
    "Points | Letters\n",
    ":--: | :--\n",
    "1 | E,A,I,O,N,R,T,L,S,U                \n",
    "2 | D,G    \n",
    "3 | B,C,M,P         \n",
    "4 | F,H,V,W,Y           \n",
    "5 | K  \n",
    "8 | J,X    \n",
    "10| Q,Z    \n",
    "\n",
    "\n",
    "**Example**: `word_score(\"ADVENTURES\")` returns `14`"
   ]
  },
  {
   "cell_type": "code",
   "execution_count": 8,
   "metadata": {
    "scrolled": true
   },
   "outputs": [],
   "source": [
    "# import pandas library\n",
    "import pandas as pd"
   ]
  },
  {
   "cell_type": "code",
   "execution_count": 9,
   "metadata": {
    "scrolled": true
   },
   "outputs": [],
   "source": [
    "# Using defaultict is another way to count the words in a document, or characters in a string\n",
    "from collections import defaultdict"
   ]
  },
  {
   "cell_type": "code",
   "execution_count": 10,
   "metadata": {
    "scrolled": true
   },
   "outputs": [],
   "source": [
    "def word_score(word):\n",
    "    \"\"\" \n",
    "        define a function word_score which takes each word in letters \n",
    "        and then scrabble score for that word with interger type.\n",
    "        \n",
    "        score values are calculated for 'word' an argurment\n",
    "        \n",
    "        required result: return a word's scrabble score (integer)\n",
    "        \n",
    "        Example: word_score(\"ADVENTURES\") returns 14\n",
    "    \"\"\"\n",
    "    # Create dictionary with provided points and letters:\n",
    "    \n",
    "    points = [1, 2, 3, 4, 5, 8, 10]\n",
    "    letters = [\n",
    "        'EAIONRTLSU',\n",
    "        'DG',\n",
    "        'BCMP',\n",
    "        'FHVWY',\n",
    "        'K',\n",
    "        'JX',\n",
    "        'QZ'\n",
    "    ]\n",
    "    \n",
    "    word_score_values = {} # create new dict 'word_score_values'\n",
    "\n",
    "    for score, letter in zip(points, letters): \n",
    "        # zip each letter in letters list for each element in the points list\n",
    "        # then assign point value to the matching string of letters\n",
    "        # for example: 1: 'EAIORNRTLSU', 2: 'DG', ...\n",
    "        for L in letter:\n",
    "            # continiuosly inter loop each word in the letter string\n",
    "            # for example: 'EAIORNRTLSU' -> 'E,A,I,O,N,R,T,L,S,U'\n",
    "            word_score_values[L] = score\n",
    "            # then assign score value to the separated word. e.g.: 1:'E', 1:'A', 1:'I',...\n",
    "    \n",
    "    Total_word_scores = 0 #Create an empty score for total word score\n",
    "    \n",
    "    for w in word: # loop each word character in word\n",
    "            Total_word_scores += word_score_values.get(w, 0) # Total_word_scores is sum of each word score\n",
    "            print('Word: ', w, 'Score: ', Total_word_scores) # show step-by-step of total score of each word \n",
    "                \n",
    "    return Total_word_scores\n",
    "\n",
    "    pass #  a placeholder until the actual arg passed to def function"
   ]
  },
  {
   "cell_type": "code",
   "execution_count": 11,
   "metadata": {
    "scrolled": true
   },
   "outputs": [
    {
     "name": "stdout",
     "output_type": "stream",
     "text": [
      "Word:  A Score:  1\n",
      "Word:  D Score:  3\n",
      "Word:  V Score:  7\n",
      "Word:  E Score:  8\n",
      "Word:  N Score:  9\n",
      "Word:  T Score:  10\n",
      "Word:  U Score:  11\n",
      "Word:  R Score:  12\n",
      "Word:  E Score:  13\n",
      "Word:  S Score:  14\n"
     ]
    },
    {
     "data": {
      "text/plain": [
       "14"
      ]
     },
     "execution_count": 11,
     "metadata": {},
     "output_type": "execute_result"
    }
   ],
   "source": [
    "word_score(\"ADVENTURES\")"
   ]
  },
  {
   "cell_type": "markdown",
   "metadata": {},
   "source": [
    "#### Q4. Find Words [10 Marks]\n",
    "\n",
    "You're playing Literary Scrabble where you can only play words extracted from famous stories. You have pulled your letters and there are lots of possibilities but you obviously want to play a hand which will get you the highest score. \n",
    "\n",
    "Complete the `find_words` function below which should return a dictionary of valid words (selected from the provided `word_list`) that can be created from the `letters` provided. The keys for the returned dictionary are the words, the values are each word's scrabble score. \n",
    "\n",
    "- Use the `word_from_letters` function above to find word/letters matches.  \n",
    "- Use the `word_score` function above to calculate each word's scrabble score.  \n",
    "\n",
    "**Example:**\n",
    "`find_words([\"LAMB\",\"REAL\",\"WONDER\"],\"BMOEALMR\")` returns `{'LAMB': 8, 'REAL': 4}`\n"
   ]
  },
  {
   "cell_type": "code",
   "execution_count": 12,
   "metadata": {
    "scrolled": true
   },
   "outputs": [],
   "source": [
    "def find_words(word_list, letters):\n",
    "    \"\"\" \n",
    "        word_list and letters are provided in question 2, passed to find_word function in order to find if \n",
    "        each word from word list matching to letters\n",
    "        \n",
    "        using the word_from_letters function to check word matched to letter\n",
    "        using the word_score function to calculate total score of each word from matched word.\n",
    "        \n",
    "        required return should be a dictionary which keys are the matched words, values are each word's scrabble score\n",
    "    \"\"\"\n",
    "    \n",
    "    Total_find_word_scores = {} # Create an empty dictionary containing keys and total score for matched words\n",
    "    \n",
    "    for word in word_list: # loop each word in the word list arg\n",
    "        if word_from_letters(word, letters): # if each word in word list is matching with letters\n",
    "            find_word_score = word_score(word) # then, each word score is deprived from word_score where contains point values \n",
    "            Total_find_word_scores[word] = find_word_score # calculate total scores from each word.\n",
    "            \n",
    "    return Total_find_word_scores\n",
    "    pass #  a placeholder until the actual arg passed to def function"
   ]
  },
  {
   "cell_type": "code",
   "execution_count": 13,
   "metadata": {
    "scrolled": true
   },
   "outputs": [
    {
     "name": "stdout",
     "output_type": "stream",
     "text": [
      "L 1 L 1\n",
      "Word:  L Score:  1\n",
      "Word:  A Score:  2\n",
      "Word:  M Score:  5\n",
      "Word:  B Score:  8\n",
      "R 1 R 1\n",
      "Word:  R Score:  1\n",
      "Word:  E Score:  2\n",
      "Word:  A Score:  3\n",
      "Word:  L Score:  4\n",
      "W 1 W 0\n"
     ]
    },
    {
     "data": {
      "text/plain": [
       "{'LAMB': 8, 'REAL': 4}"
      ]
     },
     "execution_count": 13,
     "metadata": {},
     "output_type": "execute_result"
    }
   ],
   "source": [
    "find_words([\"LAMB\",\"REAL\",\"WONDER\"],\"BMOEALMR\")"
   ]
  },
  {
   "cell_type": "markdown",
   "metadata": {},
   "source": [
    "## Task 2. Introduction to Pandas (15 marks)\n",
    "For the next set of questions, you will be using census data from the [United States Census Bureau](https://www2.census.gov/programs-surveys/popest/datasets/2010-2017/). Counties are political and geographic subdivisions of states in the United States. This dataset contains population data for counties and states in the US from 2010 to 2017. A copy of the data description document `co-est2017-alldata.pdf` has been provided in the assignment folder.  We strongly recommend that you review this file before starting this task."
   ]
  },
  {
   "cell_type": "markdown",
   "metadata": {},
   "source": [
    "#### Q5. Load data (5 marks)\n",
    "Complete `load_file` function to load the census data file (`co-est2017-alldata.csv`) into a DataFrame, `census_df`, has been provided below.\n",
    "\n",
    "**Example**:\n",
    "\n",
    "`head(load_file('data-A1-Task2/co-est2017-alldata.csv', encoding='latin1'))` should return the first 5 rows of `co-est2017-alldata.csv` (please manulally open `co-est2017-alldata.csv`to check on the first 5 rows)."
   ]
  },
  {
   "cell_type": "code",
   "execution_count": 14,
   "metadata": {
    "scrolled": true
   },
   "outputs": [],
   "source": [
    "import pandas as pd"
   ]
  },
  {
   "cell_type": "code",
   "execution_count": 15,
   "metadata": {
    "scrolled": true
   },
   "outputs": [],
   "source": [
    "def load_file(file_path, encoding):\n",
    "    \"\"\" \n",
    "        load_file is created to load the data file\n",
    "        file name is co-est2017-alldata.csv\n",
    "        pandas use file_path is to read the file\n",
    "        encoding the data by latin1\n",
    "        \n",
    "        the result should return a DataFrame which shows the first 5 rows.\n",
    "    \"\"\"\n",
    "    data = [] # Create an empty list for data rows\n",
    "    column = [] # Create an empty list for data columns\n",
    "    check_columns = False # check if column names is being running\n",
    "    with open(file_path, encoding=encoding) as file: # Open file from the file_path with encoding\n",
    "        for line in file.readlines(): # loop each line in the file to read line by line\n",
    "            line = line.replace(\"\\n\",\"\") # replace new line character to ''\n",
    "            line = line.split(',') # separate each line by ','\n",
    "            if not check_columns: # check if column names is NOT being running\n",
    "                column = line # make the first line as column names\n",
    "                check_columns = True # return True when column names are set\n",
    "            else:\n",
    "                data.append(line) # if column names is being running, then append next lines into data row\n",
    "    \n",
    "    census_df = pd.DataFrame(data=data, columns=column) # Create census_df DataFrame with using data and columns created above\n",
    "    return census_df\n",
    "\n",
    "    pass #  a placeholder until the actual arg passed to def function\n"
   ]
  },
  {
   "cell_type": "code",
   "execution_count": 19,
   "metadata": {
    "scrolled": true
   },
   "outputs": [
    {
     "data": {
      "text/html": [
       "<div>\n",
       "<style scoped>\n",
       "    .dataframe tbody tr th:only-of-type {\n",
       "        vertical-align: middle;\n",
       "    }\n",
       "\n",
       "    .dataframe tbody tr th {\n",
       "        vertical-align: top;\n",
       "    }\n",
       "\n",
       "    .dataframe thead th {\n",
       "        text-align: right;\n",
       "    }\n",
       "</style>\n",
       "<table border=\"1\" class=\"dataframe\">\n",
       "  <thead>\n",
       "    <tr style=\"text-align: right;\">\n",
       "      <th></th>\n",
       "      <th>SUMLEV</th>\n",
       "      <th>REGION</th>\n",
       "      <th>DIVISION</th>\n",
       "      <th>STATE</th>\n",
       "      <th>COUNTY</th>\n",
       "      <th>STNAME</th>\n",
       "      <th>CTYNAME</th>\n",
       "      <th>CENSUS2010POP</th>\n",
       "      <th>ESTIMATESBASE2010</th>\n",
       "      <th>POPESTIMATE2010</th>\n",
       "      <th>...</th>\n",
       "      <th>RDOMESTICMIG2015</th>\n",
       "      <th>RDOMESTICMIG2016</th>\n",
       "      <th>RDOMESTICMIG2017</th>\n",
       "      <th>RNETMIG2011</th>\n",
       "      <th>RNETMIG2012</th>\n",
       "      <th>RNETMIG2013</th>\n",
       "      <th>RNETMIG2014</th>\n",
       "      <th>RNETMIG2015</th>\n",
       "      <th>RNETMIG2016</th>\n",
       "      <th>RNETMIG2017</th>\n",
       "    </tr>\n",
       "  </thead>\n",
       "  <tbody>\n",
       "    <tr>\n",
       "      <th>0</th>\n",
       "      <td>040</td>\n",
       "      <td>3</td>\n",
       "      <td>6</td>\n",
       "      <td>01</td>\n",
       "      <td>000</td>\n",
       "      <td>Alabama</td>\n",
       "      <td>Alabama</td>\n",
       "      <td>4779736</td>\n",
       "      <td>4780135</td>\n",
       "      <td>4785579</td>\n",
       "      <td>...</td>\n",
       "      <td>-0.317204964</td>\n",
       "      <td>-0.404472969</td>\n",
       "      <td>0.7888823468</td>\n",
       "      <td>0.4507405291</td>\n",
       "      <td>0.9393925366</td>\n",
       "      <td>1.3642955333</td>\n",
       "      <td>0.6942708279</td>\n",
       "      <td>0.6785750955</td>\n",
       "      <td>0.5589305685</td>\n",
       "      <td>1.7082178942</td>\n",
       "    </tr>\n",
       "    <tr>\n",
       "      <th>1</th>\n",
       "      <td>050</td>\n",
       "      <td>3</td>\n",
       "      <td>6</td>\n",
       "      <td>01</td>\n",
       "      <td>001</td>\n",
       "      <td>Alabama</td>\n",
       "      <td>Autauga County</td>\n",
       "      <td>54571</td>\n",
       "      <td>54571</td>\n",
       "      <td>54750</td>\n",
       "      <td>...</td>\n",
       "      <td>-1.950739275</td>\n",
       "      <td>4.8312688438</td>\n",
       "      <td>1.0471015147</td>\n",
       "      <td>5.9118318493</td>\n",
       "      <td>-6.10210123</td>\n",
       "      <td>-4.050281878</td>\n",
       "      <td>2.0993254776</td>\n",
       "      <td>-1.659039945</td>\n",
       "      <td>5.1037088162</td>\n",
       "      <td>1.3179036306</td>\n",
       "    </tr>\n",
       "    <tr>\n",
       "      <th>2</th>\n",
       "      <td>050</td>\n",
       "      <td>3</td>\n",
       "      <td>6</td>\n",
       "      <td>01</td>\n",
       "      <td>003</td>\n",
       "      <td>Alabama</td>\n",
       "      <td>Baldwin County</td>\n",
       "      <td>182265</td>\n",
       "      <td>182265</td>\n",
       "      <td>183110</td>\n",
       "      <td>...</td>\n",
       "      <td>17.047871877</td>\n",
       "      <td>20.493600928</td>\n",
       "      <td>22.383175012</td>\n",
       "      <td>16.285939985</td>\n",
       "      <td>17.196785826</td>\n",
       "      <td>22.615285459</td>\n",
       "      <td>20.380904012</td>\n",
       "      <td>17.903748691</td>\n",
       "      <td>21.317243867</td>\n",
       "      <td>23.163872737</td>\n",
       "    </tr>\n",
       "    <tr>\n",
       "      <th>3</th>\n",
       "      <td>050</td>\n",
       "      <td>3</td>\n",
       "      <td>6</td>\n",
       "      <td>01</td>\n",
       "      <td>005</td>\n",
       "      <td>Alabama</td>\n",
       "      <td>Barbour County</td>\n",
       "      <td>27457</td>\n",
       "      <td>27457</td>\n",
       "      <td>27332</td>\n",
       "      <td>...</td>\n",
       "      <td>-16.22243601</td>\n",
       "      <td>-18.75552481</td>\n",
       "      <td>-19.0423948</td>\n",
       "      <td>0.2560210669</td>\n",
       "      <td>-6.822433335</td>\n",
       "      <td>-8.018920217</td>\n",
       "      <td>-5.549761621</td>\n",
       "      <td>-16.41106898</td>\n",
       "      <td>-18.94769207</td>\n",
       "      <td>-19.15994044</td>\n",
       "    </tr>\n",
       "    <tr>\n",
       "      <th>4</th>\n",
       "      <td>050</td>\n",
       "      <td>3</td>\n",
       "      <td>6</td>\n",
       "      <td>01</td>\n",
       "      <td>007</td>\n",
       "      <td>Alabama</td>\n",
       "      <td>Bibb County</td>\n",
       "      <td>22915</td>\n",
       "      <td>22919</td>\n",
       "      <td>22872</td>\n",
       "      <td>...</td>\n",
       "      <td>0.9313877678</td>\n",
       "      <td>-1.416117184</td>\n",
       "      <td>-0.882982716</td>\n",
       "      <td>-5.041979964</td>\n",
       "      <td>-4.096645596</td>\n",
       "      <td>-5.890037865</td>\n",
       "      <td>1.2434496847</td>\n",
       "      <td>1.8184237371</td>\n",
       "      <td>-0.531043944</td>\n",
       "      <td>0</td>\n",
       "    </tr>\n",
       "  </tbody>\n",
       "</table>\n",
       "<p>5 rows × 132 columns</p>\n",
       "</div>"
      ],
      "text/plain": [
       "  SUMLEV REGION DIVISION STATE COUNTY   STNAME         CTYNAME CENSUS2010POP  \\\n",
       "0    040      3        6    01    000  Alabama         Alabama       4779736   \n",
       "1    050      3        6    01    001  Alabama  Autauga County         54571   \n",
       "2    050      3        6    01    003  Alabama  Baldwin County        182265   \n",
       "3    050      3        6    01    005  Alabama  Barbour County         27457   \n",
       "4    050      3        6    01    007  Alabama     Bibb County         22915   \n",
       "\n",
       "  ESTIMATESBASE2010 POPESTIMATE2010  ... RDOMESTICMIG2015 RDOMESTICMIG2016  \\\n",
       "0           4780135         4785579  ...     -0.317204964     -0.404472969   \n",
       "1             54571           54750  ...     -1.950739275     4.8312688438   \n",
       "2            182265          183110  ...     17.047871877     20.493600928   \n",
       "3             27457           27332  ...     -16.22243601     -18.75552481   \n",
       "4             22919           22872  ...     0.9313877678     -1.416117184   \n",
       "\n",
       "  RDOMESTICMIG2017   RNETMIG2011   RNETMIG2012   RNETMIG2013   RNETMIG2014  \\\n",
       "0     0.7888823468  0.4507405291  0.9393925366  1.3642955333  0.6942708279   \n",
       "1     1.0471015147  5.9118318493   -6.10210123  -4.050281878  2.0993254776   \n",
       "2     22.383175012  16.285939985  17.196785826  22.615285459  20.380904012   \n",
       "3      -19.0423948  0.2560210669  -6.822433335  -8.018920217  -5.549761621   \n",
       "4     -0.882982716  -5.041979964  -4.096645596  -5.890037865  1.2434496847   \n",
       "\n",
       "    RNETMIG2015   RNETMIG2016   RNETMIG2017  \n",
       "0  0.6785750955  0.5589305685  1.7082178942  \n",
       "1  -1.659039945  5.1037088162  1.3179036306  \n",
       "2  17.903748691  21.317243867  23.163872737  \n",
       "3  -16.41106898  -18.94769207  -19.15994044  \n",
       "4  1.8184237371  -0.531043944             0  \n",
       "\n",
       "[5 rows x 132 columns]"
      ]
     },
     "execution_count": 19,
     "metadata": {},
     "output_type": "execute_result"
    }
   ],
   "source": [
    "# Read and generate the first 5 rows\n",
    "\n",
    "census_df = load_file('data-A1-Task2/co-est2017-alldata.csv', encoding='latin1')\n",
    "\n",
    "# load_file('data-A1-Task2/co-est2017-alldata.csv', encoding='latin1').head()\n",
    "\n",
    "census_df.head()"
   ]
  },
  {
   "cell_type": "code",
   "execution_count": 20,
   "metadata": {
    "scrolled": true
   },
   "outputs": [
    {
     "data": {
      "text/html": [
       "<div>\n",
       "<style scoped>\n",
       "    .dataframe tbody tr th:only-of-type {\n",
       "        vertical-align: middle;\n",
       "    }\n",
       "\n",
       "    .dataframe tbody tr th {\n",
       "        vertical-align: top;\n",
       "    }\n",
       "\n",
       "    .dataframe thead th {\n",
       "        text-align: right;\n",
       "    }\n",
       "</style>\n",
       "<table border=\"1\" class=\"dataframe\">\n",
       "  <thead>\n",
       "    <tr style=\"text-align: right;\">\n",
       "      <th></th>\n",
       "      <th>SUMLEV</th>\n",
       "      <th>REGION</th>\n",
       "      <th>DIVISION</th>\n",
       "      <th>STATE</th>\n",
       "      <th>COUNTY</th>\n",
       "      <th>STNAME</th>\n",
       "      <th>CTYNAME</th>\n",
       "      <th>CENSUS2010POP</th>\n",
       "      <th>ESTIMATESBASE2010</th>\n",
       "      <th>POPESTIMATE2010</th>\n",
       "      <th>...</th>\n",
       "      <th>RDOMESTICMIG2015</th>\n",
       "      <th>RDOMESTICMIG2016</th>\n",
       "      <th>RDOMESTICMIG2017</th>\n",
       "      <th>RNETMIG2011</th>\n",
       "      <th>RNETMIG2012</th>\n",
       "      <th>RNETMIG2013</th>\n",
       "      <th>RNETMIG2014</th>\n",
       "      <th>RNETMIG2015</th>\n",
       "      <th>RNETMIG2016</th>\n",
       "      <th>RNETMIG2017</th>\n",
       "    </tr>\n",
       "  </thead>\n",
       "  <tbody>\n",
       "    <tr>\n",
       "      <th>3188</th>\n",
       "      <td>050</td>\n",
       "      <td>4</td>\n",
       "      <td>8</td>\n",
       "      <td>56</td>\n",
       "      <td>037</td>\n",
       "      <td>Wyoming</td>\n",
       "      <td>Sweetwater County</td>\n",
       "      <td>43806</td>\n",
       "      <td>43806</td>\n",
       "      <td>43569</td>\n",
       "      <td>...</td>\n",
       "      <td>-14.46836022</td>\n",
       "      <td>-18.56659586</td>\n",
       "      <td>-23.6503036</td>\n",
       "      <td>1.3473088077</td>\n",
       "      <td>15.451125709</td>\n",
       "      <td>-5.787973877</td>\n",
       "      <td>-12.0276058</td>\n",
       "      <td>-14.20084046</td>\n",
       "      <td>-18.2519078</td>\n",
       "      <td>-23.3313207</td>\n",
       "    </tr>\n",
       "    <tr>\n",
       "      <th>3189</th>\n",
       "      <td>050</td>\n",
       "      <td>4</td>\n",
       "      <td>8</td>\n",
       "      <td>56</td>\n",
       "      <td>039</td>\n",
       "      <td>Wyoming</td>\n",
       "      <td>Teton County</td>\n",
       "      <td>21294</td>\n",
       "      <td>21294</td>\n",
       "      <td>21295</td>\n",
       "      <td>...</td>\n",
       "      <td>1.5704750687</td>\n",
       "      <td>-1.385011578</td>\n",
       "      <td>-4.47841533</td>\n",
       "      <td>0.3740852447</td>\n",
       "      <td>2.9639921269</td>\n",
       "      <td>19.984103554</td>\n",
       "      <td>13.999955696</td>\n",
       "      <td>2.0503424508</td>\n",
       "      <td>-0.95219546</td>\n",
       "      <td>-4.090860157</td>\n",
       "    </tr>\n",
       "    <tr>\n",
       "      <th>3190</th>\n",
       "      <td>050</td>\n",
       "      <td>4</td>\n",
       "      <td>8</td>\n",
       "      <td>56</td>\n",
       "      <td>041</td>\n",
       "      <td>Wyoming</td>\n",
       "      <td>Uinta County</td>\n",
       "      <td>21118</td>\n",
       "      <td>21118</td>\n",
       "      <td>21093</td>\n",
       "      <td>...</td>\n",
       "      <td>-10.66666667</td>\n",
       "      <td>-11.23135138</td>\n",
       "      <td>-18.05562297</td>\n",
       "      <td>-18.52733854</td>\n",
       "      <td>-4.58255764</td>\n",
       "      <td>-10.5340928</td>\n",
       "      <td>-14.30450903</td>\n",
       "      <td>-10.71471471</td>\n",
       "      <td>-11.2795546</td>\n",
       "      <td>-18.10415959</td>\n",
       "    </tr>\n",
       "    <tr>\n",
       "      <th>3191</th>\n",
       "      <td>050</td>\n",
       "      <td>4</td>\n",
       "      <td>8</td>\n",
       "      <td>56</td>\n",
       "      <td>043</td>\n",
       "      <td>Wyoming</td>\n",
       "      <td>Washakie County</td>\n",
       "      <td>8533</td>\n",
       "      <td>8533</td>\n",
       "      <td>8537</td>\n",
       "      <td>...</td>\n",
       "      <td>0.4823926676</td>\n",
       "      <td>-14.43824314</td>\n",
       "      <td>-15.38272213</td>\n",
       "      <td>-12.59045714</td>\n",
       "      <td>-2.724957052</td>\n",
       "      <td>-1.305792972</td>\n",
       "      <td>-19.024828</td>\n",
       "      <td>0.4823926676</td>\n",
       "      <td>-14.43824314</td>\n",
       "      <td>-15.38272213</td>\n",
       "    </tr>\n",
       "    <tr>\n",
       "      <th>3192</th>\n",
       "      <td>050</td>\n",
       "      <td>4</td>\n",
       "      <td>8</td>\n",
       "      <td>56</td>\n",
       "      <td>045</td>\n",
       "      <td>Wyoming</td>\n",
       "      <td>Weston County</td>\n",
       "      <td>7208</td>\n",
       "      <td>7208</td>\n",
       "      <td>7198</td>\n",
       "      <td>...</td>\n",
       "      <td>3.4908887803</td>\n",
       "      <td>-1.251825579</td>\n",
       "      <td>-40.63716814</td>\n",
       "      <td>-9.345142618</td>\n",
       "      <td>-10.69293</td>\n",
       "      <td>6.615059817</td>\n",
       "      <td>0.9805294859</td>\n",
       "      <td>4.8872442924</td>\n",
       "      <td>0</td>\n",
       "      <td>-39.36283186</td>\n",
       "    </tr>\n",
       "  </tbody>\n",
       "</table>\n",
       "<p>5 rows × 132 columns</p>\n",
       "</div>"
      ],
      "text/plain": [
       "     SUMLEV REGION DIVISION STATE COUNTY   STNAME            CTYNAME  \\\n",
       "3188    050      4        8    56    037  Wyoming  Sweetwater County   \n",
       "3189    050      4        8    56    039  Wyoming       Teton County   \n",
       "3190    050      4        8    56    041  Wyoming       Uinta County   \n",
       "3191    050      4        8    56    043  Wyoming    Washakie County   \n",
       "3192    050      4        8    56    045  Wyoming      Weston County   \n",
       "\n",
       "     CENSUS2010POP ESTIMATESBASE2010 POPESTIMATE2010  ... RDOMESTICMIG2015  \\\n",
       "3188         43806             43806           43569  ...     -14.46836022   \n",
       "3189         21294             21294           21295  ...     1.5704750687   \n",
       "3190         21118             21118           21093  ...     -10.66666667   \n",
       "3191          8533              8533            8537  ...     0.4823926676   \n",
       "3192          7208              7208            7198  ...     3.4908887803   \n",
       "\n",
       "     RDOMESTICMIG2016 RDOMESTICMIG2017   RNETMIG2011   RNETMIG2012  \\\n",
       "3188     -18.56659586      -23.6503036  1.3473088077  15.451125709   \n",
       "3189     -1.385011578      -4.47841533  0.3740852447  2.9639921269   \n",
       "3190     -11.23135138     -18.05562297  -18.52733854   -4.58255764   \n",
       "3191     -14.43824314     -15.38272213  -12.59045714  -2.724957052   \n",
       "3192     -1.251825579     -40.63716814  -9.345142618     -10.69293   \n",
       "\n",
       "       RNETMIG2013   RNETMIG2014   RNETMIG2015   RNETMIG2016   RNETMIG2017  \n",
       "3188  -5.787973877   -12.0276058  -14.20084046   -18.2519078   -23.3313207  \n",
       "3189  19.984103554  13.999955696  2.0503424508   -0.95219546  -4.090860157  \n",
       "3190   -10.5340928  -14.30450903  -10.71471471   -11.2795546  -18.10415959  \n",
       "3191  -1.305792972    -19.024828  0.4823926676  -14.43824314  -15.38272213  \n",
       "3192   6.615059817  0.9805294859  4.8872442924             0  -39.36283186  \n",
       "\n",
       "[5 rows x 132 columns]"
      ]
     },
     "execution_count": 20,
     "metadata": {},
     "output_type": "execute_result"
    }
   ],
   "source": [
    "census_df.tail() # show the 5 last rows"
   ]
  },
  {
   "cell_type": "code",
   "execution_count": 21,
   "metadata": {
    "scrolled": true
   },
   "outputs": [
    {
     "name": "stdout",
     "output_type": "stream",
     "text": [
      "STATE\n",
      "11      2\n",
      "10      4\n",
      "44      6\n",
      "15      6\n",
      "09      9\n",
      "33     11\n",
      "25     15\n",
      "50     15\n",
      "04     16\n",
      "23     17\n",
      "32     18\n",
      "34     22\n",
      "56     24\n",
      "24     25\n",
      "49     30\n",
      "02     30\n",
      "35     34\n",
      "41     37\n",
      "53     40\n",
      "16     45\n",
      "45     47\n",
      "38     54\n",
      "54     56\n",
      "30     57\n",
      "06     59\n",
      "36     63\n",
      "22     65\n",
      "08     65\n",
      "46     67\n",
      "42     68\n",
      "01     68\n",
      "12     68\n",
      "55     73\n",
      "05     76\n",
      "40     78\n",
      "28     83\n",
      "26     84\n",
      "27     88\n",
      "39     89\n",
      "18     93\n",
      "31     94\n",
      "47     96\n",
      "19    100\n",
      "37    101\n",
      "17    103\n",
      "20    106\n",
      "29    116\n",
      "21    121\n",
      "51    134\n",
      "13    160\n",
      "48    255\n",
      "Name: count, dtype: int64\n"
     ]
    }
   ],
   "source": [
    "print(census_df['STATE'].value_counts(ascending=True)) # value count of each STATE by ascending"
   ]
  },
  {
   "cell_type": "code",
   "execution_count": 22,
   "metadata": {
    "scrolled": true
   },
   "outputs": [
    {
     "data": {
      "text/plain": [
       "dtype('O')"
      ]
     },
     "execution_count": 22,
     "metadata": {},
     "output_type": "execute_result"
    }
   ],
   "source": [
    "census_df['STATE'].dtype # check column type of State"
   ]
  },
  {
   "cell_type": "code",
   "execution_count": 23,
   "metadata": {
    "scrolled": true
   },
   "outputs": [
    {
     "name": "stdout",
     "output_type": "stream",
     "text": [
      "REGION\n",
      "3    1439\n",
      "2    1067\n",
      "4     461\n",
      "1     226\n",
      "Name: count, dtype: int64\n",
      "\n",
      "DIVISION\n",
      "4    625\n",
      "5    597\n",
      "7    474\n",
      "3    442\n",
      "6    368\n",
      "8    289\n",
      "9    172\n",
      "2    153\n",
      "1     73\n",
      "Name: count, dtype: int64\n"
     ]
    }
   ],
   "source": [
    "print(census_df['REGION'].value_counts()) # value count of REGION\n",
    "print()\n",
    "print(census_df['DIVISION'].value_counts())# value count of DIVISION"
   ]
  },
  {
   "cell_type": "markdown",
   "metadata": {},
   "source": [
    "### Q6 (10 marks)\n",
    "What are the REGION and DIVISION for the first state in `census_df` ?\n",
    "\n",
    "Complete the `data_extract`function to extract the REGION and DIVISION values for the first state in the dataframe `census_df` which you returned from Q5 above.\n",
    "\n",
    "*This function should return a Tuple with two values (REGION, DIVISION).*\n",
    "\n",
    "**Example**: \n",
    "- `data_extract()`, returns `(3,6)`"
   ]
  },
  {
   "cell_type": "code",
   "execution_count": 24,
   "metadata": {
    "scrolled": true
   },
   "outputs": [],
   "source": [
    "def data_extract():\n",
    "    \"\"\" \n",
    "        Creat data_extract function to extract REGION and DIVISION values for the first state\n",
    "        from cencus_df created in question 5\n",
    "        \n",
    "        two values (REGION, DIVISION) will be presented as tuple type\n",
    "        Example:\n",
    "\n",
    "        data_extract(), returns (3,6) \n",
    "    \"\"\"\n",
    "    \n",
    "    first_state = census_df[census_df['STATE'] == '01'] # fill and create a new Dataframe of the first state only\n",
    "    \n",
    "    region_of_1state = first_state['REGION'].unique() # get unique value of REGION column from the first state dataframe\n",
    "    division_of_1state = first_state['DIVISION'].unique() # get unique value of DIVISION column from the first state dataframe\n",
    "    \n",
    "    return (int(region_of_1state), int(division_of_1state)) # change value types to integer of region_of_1state and division_of_1state\n",
    "                                                            #return a tuple value for those values\n",
    "    \n",
    "    pass #  a placeholder until the actual arg passed to def function"
   ]
  },
  {
   "cell_type": "code",
   "execution_count": 25,
   "metadata": {
    "scrolled": true
   },
   "outputs": [
    {
     "data": {
      "text/plain": [
       "(3, 6)"
      ]
     },
     "execution_count": 25,
     "metadata": {},
     "output_type": "execute_result"
    }
   ],
   "source": [
    "data_extract() "
   ]
  },
  {
   "cell_type": "code",
   "execution_count": null,
   "metadata": {
    "scrolled": true
   },
   "outputs": [],
   "source": []
  }
 ],
 "metadata": {
  "celltoolbar": "Raw Cell Format",
  "kernelspec": {
   "display_name": "Python 3 (ipykernel)",
   "language": "python",
   "name": "python3"
  },
  "language_info": {
   "codemirror_mode": {
    "name": "ipython",
    "version": 3
   },
   "file_extension": ".py",
   "mimetype": "text/x-python",
   "name": "python",
   "nbconvert_exporter": "python",
   "pygments_lexer": "ipython3",
   "version": "3.11.5"
  }
 },
 "nbformat": 4,
 "nbformat_minor": 2
}
